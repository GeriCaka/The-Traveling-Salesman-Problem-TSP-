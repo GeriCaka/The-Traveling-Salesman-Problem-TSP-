{
 "cells": [
  {
   "cell_type": "code",
   "execution_count": 8,
   "metadata": {},
   "outputs": [],
   "source": [
    "from IPython.display import Image"
   ]
  },
  {
   "cell_type": "markdown",
   "metadata": {},
   "source": [
    "<span style=\"color:red\">\n",
    "    <center> <h1> \n",
    "        The Traveling Salesman Problem (TSP) \n",
    "    </h1> </center>\n",
    "</span>\n",
    "\n",
    "<br/>Il problema del commesso viaggiatore consiste nel visitare **n città**, di cui siano note le distanze reciproche.\n",
    "<br/>L'idea è che partendo da una città x, si vogliono visitare tutte le altre città per ritornare alla fine nella città di partenza.\n",
    "<br/>L'obiettivo invece è quello di percorrere la strada di lunghezza complessiva **minima**, visitando le città una e una sola volta.\n",
    "\n",
    "<br/>*Esempio pratico <br/>\n",
    "Si immagini il corriere della Figura1 che deve portare la posta in tre destinazioni diverse, passando da una casa, da una libreria e da una farmacia. Il postino vuole percorrere il tragitto minimo, passando una e una sola volta in ogni destinazione per tornare alla fine in ufficio il prima possibile.*\n"
   ]
  },
  {
   "cell_type": "code",
   "execution_count": 9,
   "metadata": {},
   "outputs": [
    {
     "data": {
      "text/html": [
       "<img src=\"images/TSP1.jpg\" width=\"600\"/>"
      ],
      "text/plain": [
       "<IPython.core.display.Image object>"
      ]
     },
     "execution_count": 9,
     "metadata": {},
     "output_type": "execute_result"
    }
   ],
   "source": [
    "Image(url='images/TSP1.jpg', width=600)"
   ]
  },
  {
   "cell_type": "markdown",
   "metadata": {},
   "source": [
    "### TSP come problema di ottimizzazione\n",
    "\n",
    "Il problema del commesso viaggiatore è un esempio di problema di ottimizzazione che può essere modellizzato introducendo un grafo in cui i:\n",
    "   * nodi rappresentano le città\n",
    "   * gli archi rappresentano la distanza dal nodo i al nodo j."
   ]
  },
  {
   "cell_type": "markdown",
   "metadata": {},
   "source": [
    "<span style=\"color:blue\">\n",
    "    <h3> \n",
    "        TSP binary integer LP formulation by Dantzig et al. in 1954:     \n",
    "    </h3> \n",
    "</span>\n",
    "\n",
    "* Sia $i = 1, 2, ..., n$. \n",
    "  *  **n** indica i nodi del grafo.\n",
    "* Sia $x_{ij}$ la variabile di decisione che collega la città $i$ con la città $j$ tale che:\n",
    "\n",
    "> $x_{ij}=1$, se la città $j$ viene visitata dopo la $i$ \\\n",
    "> $x_{ij}=0$, altrimenti.\n",
    "\n",
    "* Le città formano l'insieme $V$ dei vertici, e le conessioni formano l'insieme $E$ degli archi.\n",
    "\n",
    "* Sia $d_{ij}$ la distanza tra la città $i$ e la città $j$\n",
    "\n",
    "> Osservazione: Il grafo non è orientato, perciò: $d_{ij}=d_{ji}$  \n",
    "\n",
    "* ##### L'obiettivo è minimizzare il seguente costo:\n",
    "> $$ \\sum_{i,j \\in E,i\\neq j} d_{ij}x_{ij}$$\n",
    "\n",
    "* ##### Vincoli:\n",
    "> <ol>\n",
    "> <li>$x_{ij}=0 \\ \\vee \\ 1, \\ (i,j) \\in V$</li>\n",
    "> <li>Una città $i$ dovrebbe essere visitata una e una sola volta: </li>\n",
    "> <ul>\n",
    "> <li>$$ \\sum_{i\\in V} x_{ij}=2,\\ (\\surd j \\in V)$$ </li>\n",
    "> </ul>\n",
    "> <li>Il vincolo precedente indica che solo un arco può entrare/uscire da una città</li>\n",
    "> <ol>\n",
    "> <li>$$\\sum_{j=1}^n x_{ij}=1, \\ (i \\in V,i\\neq j)$$</li>\n",
    "> <li>$$\\sum_{i=1}^n x_{ij}=1, \\ (j \\in V,j\\neq i)$$</li>\n",
    "> </ol>\n",
    "> <li>Per evitare sottoinsiemi non connessi, per qualsiasi sottoinsieme non vuoto $S \\subset V$ di $n$ città, è richiesto che:</li>\n",
    "> <ul>\n",
    "> <li>$$ \\sum_{i,j\\in S} x_{ij} \\leq \\lvert S \\rvert - 1,\\ (2 \\leq \\lvert S \\rvert \\leq n - 2)$$ </li>\n",
    "> </ul>\n",
    "\n",
    "\n",
    " \n",
    "    \n",
    "    \n"
   ]
  },
  {
   "cell_type": "markdown",
   "metadata": {},
   "source": [
    "### Visualizzazione grafica del problema TSP, risolto  seguentemente, applicando il metodo del simplesso"
   ]
  },
  {
   "cell_type": "code",
   "execution_count": 10,
   "metadata": {},
   "outputs": [
    {
     "data": {
      "text/html": [
       "<img src=\"images/TSP2.jpg\" width=\"600\"/>"
      ],
      "text/plain": [
       "<IPython.core.display.Image object>"
      ]
     },
     "execution_count": 10,
     "metadata": {},
     "output_type": "execute_result"
    }
   ],
   "source": [
    "Image(url='images/TSP2.jpg', width=600)"
   ]
  },
  {
   "cell_type": "markdown",
   "metadata": {},
   "source": [
    "### Legenda: \n",
    "\n",
    "$\n",
    "Bari = A \\\\\n",
    "Modugno = B \\\\\n",
    "Bitritto = C \\\\\n",
    "Triggiano = D\n",
    "$\n",
    "\n",
    "$$\n",
    "x_{AB} = x_1 \\\\\n",
    "x_{AC} = x_2 \\\\\n",
    "x_{AD} = x_3 \\\\\n",
    "x_{BA} = x_4 \\\\\n",
    "x_{BC} = x_5 \\\\\n",
    "x_{BD} = x_6 \\\\\n",
    "x_{CA} = x_7 \\\\\n",
    "x_{CB} = x_8 \\\\\n",
    "x_{CD} = x_9 \\\\\n",
    "x_{DA} = x_{10} \\\\\n",
    "x_{DB} = x_{11} \\\\\n",
    "x_{DC} = x_{12} \n",
    "$$\n",
    "\n",
    "<hr/>\n",
    "$Funzione~~obiettivo: \n",
    "    Z = 16x_1+16x_2+18x_3+16x_4+14x_5+20x_6+16x_7+14x_8+19x_9+18x_{10}+20x_{11}+19x_{12}$\n",
    "<hr/>\n",
    "\n",
    "**Vincoli:** \n",
    "\n",
    "_Dal nodo **A** deve uscire uno e un solo arco_:~\n",
    "$x_1 + x_2 + x_3 = 1$\n",
    "\n",
    "_Dal nodo **B** deve uscire uno e un solo arco_:~\n",
    "$x_4 + x_5 + x_6 = 1$\n",
    "\n",
    "_Dal nodo **C** deve uscire uno e un solo arco_:~\n",
    "$x_7 + x_8 + x_9 = 1$\n",
    "\n",
    "_Dal nodo **D** deve uscire uno e un solo arco_:~\n",
    "$x_{10} + x_{11} + x_{12} = 1$\n",
    "\n",
    "_Dal nodo **A** deve entrare uno e un solo arco_:~\n",
    "$x_4 + x_7 + x_9 = 1$\n",
    "\n",
    "_Dal nodo **B** deve entrare uno e un solo arco_:~\n",
    "$x_1 + x_8 + x_{11} = 1$\n",
    "\n",
    "_Dal nodo **C** deve entrare uno e un solo arco_:~\n",
    "$x_2 + x_5 + x_{12} = 1$\n",
    "\n",
    "_Dal nodo **D** deve entrare uno e un solo arco_:~\n",
    "$x_3 + x_6 + x_9 = 1$"
   ]
  },
  {
   "cell_type": "code",
   "execution_count": 5,
   "metadata": {},
   "outputs": [
    {
     "name": "stdout",
     "output_type": "stream",
     "text": [
      "     con: array([0., 0., 0., 0., 0., 0., 0., 0.])\n",
      "     fun: 67.0\n",
      " message: 'Optimization terminated successfully.'\n",
      "     nit: 11\n",
      "   slack: array([], dtype=float64)\n",
      "  status: 0\n",
      " success: True\n",
      "       x: array([1., 0., 0., 0., 1., 0., 0., 0., 1., 1., 0., 0.])\n"
     ]
    }
   ],
   "source": [
    "from scipy.optimize import linprog\n",
    "\n",
    "c = [16,16,18,16,14,20,16,14,19,18,20,19]\n",
    "\n",
    "A = [[1, 1, 1, 0, 0, 0, 0, 0, 0, 0, 0, 0], \n",
    "     [0, 0, 0, 1, 1, 1, 0, 0, 0, 0, 0, 0],\n",
    "     [0, 0, 0, 0, 0, 0, 1, 1, 1, 0, 0, 0],\n",
    "     [0, 0, 0, 0, 0, 0, 0, 0, 0, 1, 1, 1],\n",
    "     [0, 0, 0, 1, 0, 0, 1, 0, 1, 0, 0, 0],\n",
    "     [1, 0, 0, 0, 0, 0, 0, 1, 0, 0, 1, 0],\n",
    "     [0, 1, 0, 0, 1, 0, 0, 0, 0, 0, 0, 1],\n",
    "     [0, 0, 1, 0, 0, 1, 0, 0, 1, 0, 0, 0]]\n",
    "\n",
    "b = [1,1,1,1,1,1,1,1]\n",
    "\n",
    "res = linprog(c= c, A_eq= A, b_eq= b, method= 'simplex')\n",
    "\n",
    "print(res)\n",
    "\n",
    "??linprog"
   ]
  },
  {
   "cell_type": "markdown",
   "metadata": {},
   "source": [
    "### TSP Problem risolto con il metodo Branch and Bound"
   ]
  },
  {
   "cell_type": "markdown",
   "metadata": {},
   "source": [
    "Osservando la figura 2 e partendo dal grafo da esso mostrato, costruiamo la matrice simmetrica, ovvero la matrice dei costi:\n",
    "\n",
    "$\\begin{vmatrix}  \\color{red}{\\text{$\\infty$}} & 16 & 16 & 18\\\\ \n",
    "                  16 & \\color{red}{\\text{$\\infty$}} & 14 & 20\\\\ \n",
    "                  16 & 14 & \\color{red}{\\text{$\\infty$}} & 19\\\\ \n",
    "                  18 & 20 & 19 & \\color{red}{\\text{$\\infty$}} \\end{vmatrix}$\n",
    "                  \n",
    "L'obiettivo rimane sempre quello di cercare di ridurre il costo, perciò come primo passo riduciamo le righe e le colonne della matrice, ottenendo così il costo totale, chiamato lower bound (LB).\n",
    "<br/>*Il commesso viaggiatore percorrerà il suo cammino in un costo uguale o maggiore di questo LB.*\n",
    "\n",
    "\n"
   ]
  },
  {
   "cell_type": "markdown",
   "metadata": {},
   "source": [
    "#### Riduzione delle righe.\n",
    "Per ciascuna riga $i$ si trova la distanza minima e tale risultato si sottrae a tutti gli elementi contenuti nella riga i-esima.\n",
    "\n",
    "$\\begin{vmatrix}  \n",
    "\\color{red}{\\text{$\\infty$}} & 16-\\color{blue}{\\text{16}} & 16-\\color{blue}{\\text{16}} & 18-\\color{blue}{\\text{16}}\\\\ \n",
    "16-\\color{blue}{\\text{14}} & \\color{red}{\\text{$\\infty$}} & 14-\\color{blue}{\\text{14}} & 20-\\color{blue}{\\text{14}}\\\\ \n",
    "16-\\color{blue}{\\text{14}} & 14-\\color{blue}{\\text{14}} & \\color{red}{\\text{$\\infty$}} & 19-\\color{blue}{\\text{14}}\\\\ \n",
    "18-\\color{blue}{\\text{18}} & 20-\\color{blue}{\\text{18}} & 19-\\color{blue}{\\text{18}} & \\color{red}{\\text{$\\infty$}} \\end{vmatrix}$\n",
    "\n",
    "La matrice ridotta è: \n",
    "$\\begin{vmatrix}  \n",
    "\\color{red}{\\text{$\\infty$}} & 0 & 0 & 2\\\\ \n",
    "2 & \\color{red}{\\text{$\\infty$}} & 0 & 6\\\\ \n",
    "2 & 0 & \\color{red}{\\text{$\\infty$}} & 5\\\\ \n",
    "0 & 2 & 1 & \\color{red}{\\text{$\\infty$}} \\end{vmatrix}$\n",
    "\n",
    "Il costo della riduzione risulta pari a 62 (16 +14 + 14 + 18)."
   ]
  },
  {
   "cell_type": "markdown",
   "metadata": {},
   "source": [
    "#### Riduzione delle colonne.\n",
    "\n",
    "Partendo dalla matrice ridotta per righe, si riduce ulteriormente: \n",
    "\n",
    "$\\begin{vmatrix}  \n",
    "\\color{red}{\\text{$\\infty$}} & 0 & 0 & 2-\\color{blue}{\\text{2}}\\\\ \n",
    "2 & \\color{red}{\\text{$\\infty$}} & 0 & 6-\\color{blue}{\\text{2}}\\\\ \n",
    "2 & 0 & \\color{red}{\\text{$\\infty$}} & 5-\\color{blue}{\\text{2}}\\\\ \n",
    "0 & 2 & 1 & \\color{red}{\\text{$\\infty$}} \\end{vmatrix}$\n",
    "\n",
    "C1 = \n",
    "$\\begin{vmatrix}  \n",
    "\\color{red}{\\text{$\\infty$}} & 0 & 0 & 0\\\\ \n",
    "2 & \\color{red}{\\text{$\\infty$}} & 0 & 4\\\\ \n",
    "2 & 0 & \\color{red}{\\text{$\\infty$}} & 3\\\\ \n",
    "0 & 2 & 1 & \\color{red}{\\text{$\\infty$}} \\end{vmatrix}$\n",
    "\n",
    "Il costo della riduzione delle colonne risulta pari a 2."
   ]
  },
  {
   "cell_type": "markdown",
   "metadata": {},
   "source": [
    "### Costo totale della riduzione LB è la somma del costo della riduzione delle righe con la riduzione delle colonne: \n",
    "\n",
    "$$LB: 62 + 2 = 64 $$\n",
    "\n",
    "Partendo dalla matrice ridotta, calcoliamo il costo per andare dal nodo A al nodo B:"
   ]
  },
  {
   "cell_type": "code",
   "execution_count": 11,
   "metadata": {},
   "outputs": [
    {
     "data": {
      "text/html": [
       "<img src=\"images/TSP3.jpg\" width=\"400\"/>"
      ],
      "text/plain": [
       "<IPython.core.display.Image object>"
      ]
     },
     "execution_count": 11,
     "metadata": {},
     "output_type": "execute_result"
    }
   ],
   "source": [
    "Image(url='images/TSP3.jpg', width=400)"
   ]
  },
  {
   "cell_type": "markdown",
   "metadata": {},
   "source": [
    "Di conseguenza si elimina la riga A e la colonna B.\n",
    "Per il vincolo del TSP, non è possibile andare dal nodo B al nodo A. La matrice diventa quindi:\n",
    "\n",
    "$\\begin{vmatrix}  \n",
    "\\color{red}{\\text{$\\infty$}} & \\color{red}{\\text{$\\infty$}} & \\color{red}{\\text{$\\infty$}} & \\color{red}{\\text{$\\infty$}}\\\\ \n",
    "\\color{red}{\\text{$\\infty$}} & \\color{red}{\\text{$\\infty$}} & 0 & 4\\\\ \n",
    "2 & \\color{red}{\\text{$\\infty$}} & \\color{red}{\\text{$\\infty$}} & 3\\\\ \n",
    "0 & \\color{red}{\\text{$\\infty$}} & 1 & \\color{red}{\\text{$\\infty$}} \\end{vmatrix}$\n",
    "\n",
    "Si procede ora, riducendo quest'ultima per righe e per colonne.\n",
    "\n",
    "**Riduzione per righe:**\n",
    "$\\begin{vmatrix}  \n",
    "\\color{red}{\\text{$\\infty$}} & \\color{red}{\\text{$\\infty$}} & \\color{red}{\\text{$\\infty$}} & \\color{red}{\\text{$\\infty$}}\\\\ \n",
    "\\color{red}{\\text{$\\infty$}} & \\color{red}{\\text{$\\infty$}} & 0 & 4\\\\ \n",
    "0 & \\color{red}{\\text{$\\infty$}} & \\color{red}{\\text{$\\infty$}} & 1\\\\ \n",
    "0 & \\color{red}{\\text{$\\infty$}} & 1 & \\color{red}{\\text{$\\infty$}} \\end{vmatrix}$\n",
    "\n",
    "Costo della riduzione per le righe risulta pari a 2.\n",
    "\n",
    "**Riduzione per colonne:**\n",
    "$\\begin{vmatrix}  \n",
    "\\color{red}{\\text{$\\infty$}} & \\color{red}{\\text{$\\infty$}} & \\color{red}{\\text{$\\infty$}} & \\color{red}{\\text{$\\infty$}}\\\\ \n",
    "\\color{red}{\\text{$\\infty$}} & \\color{red}{\\text{$\\infty$}} & 0 & 3\\\\ \n",
    "0 & \\color{red}{\\text{$\\infty$}} & \\color{red}{\\text{$\\infty$}} & 0\\\\ \n",
    "0 & \\color{red}{\\text{$\\infty$}} & 1 & \\color{red}{\\text{$\\infty$}} \\end{vmatrix}$\n",
    "\n",
    "Costo della riduzione per le righe risulta pari a 1.\n",
    "Costo totale: 2 + 1 = 3.\n",
    "\n",
    "Dalla matrice C1 si può indicare il costo per andare dal nodo A al nodo B, osservando l'elemento in posizione (1,2) che è pari a 0. A questo costo si aggiungono: il costo della riduzione del nodo A, ovvero 64, ed il costo della riduzione della matrice appena costruita, ovvero 3. \n",
    "\n",
    "**Possiamo dunque fornire il costo totale per andare dal nodo A al nodo B: 0+64+3 = 67**"
   ]
  },
  {
   "cell_type": "markdown",
   "metadata": {},
   "source": [
    "### Partendo dalla matrice ridotta C1, calcoliamo ora il costo per andare dal nodo A al nodo C:"
   ]
  },
  {
   "cell_type": "code",
   "execution_count": 12,
   "metadata": {},
   "outputs": [
    {
     "data": {
      "text/html": [
       "<img src=\"images/TSP4.jpg\" width=\"400\"/>"
      ],
      "text/plain": [
       "<IPython.core.display.Image object>"
      ]
     },
     "execution_count": 12,
     "metadata": {},
     "output_type": "execute_result"
    }
   ],
   "source": [
    "Image(url='images/TSP4.jpg', width=400)"
   ]
  },
  {
   "cell_type": "markdown",
   "metadata": {},
   "source": [
    "Si procede con tale calcolo nello stesso modo che è stato utilizzato per calcolare la distanza tra il nodo A ed il nodo B.\n",
    "\n",
    "$\\begin{vmatrix}  \n",
    "\\color{red}{\\text{$\\infty$}} & \\color{red}{\\text{$\\infty$}} & \\color{red}{\\text{$\\infty$}} & \\color{red}{\\text{$\\infty$}}\\\\ \n",
    "2 & \\color{red}{\\text{$\\infty$}} & \\color{red}{\\text{$\\infty$}} & 4\\\\ \n",
    "\\color{red}{\\text{$\\infty$}} & 0 & \\color{red}{\\text{$\\infty$}} & 3\\\\ \n",
    "0 & 2 & \\color{red}{\\text{$\\infty$}} & \\color{red}{\\text{$\\infty$}} \\end{vmatrix}$\n",
    "\n",
    "**Riduzione per righe:**\n",
    "$\\begin{vmatrix}  \n",
    "\\color{red}{\\text{$\\infty$}} & \\color{red}{\\text{$\\infty$}} & \\color{red}{\\text{$\\infty$}} & \\color{red}{\\text{$\\infty$}}\\\\ \n",
    "0 & \\color{red}{\\text{$\\infty$}} & \\color{red}{\\text{$\\infty$}} & 2\\\\ \n",
    "\\color{red}{\\text{$\\infty$}} & 0 & \\color{red}{\\text{$\\infty$}} & 3\\\\ \n",
    "0 & 2 & \\color{red}{\\text{$\\infty$}} & \\color{red}{\\text{$\\infty$}} \\end{vmatrix}$\n",
    "\n",
    "Costo della riduzione per le righe risulta pari a 2.\n",
    "\n",
    "**Riduzione per colonne:**\n",
    "$\\begin{vmatrix}  \n",
    "\\color{red}{\\text{$\\infty$}} & \\color{red}{\\text{$\\infty$}} & \\color{red}{\\text{$\\infty$}} & \\color{red}{\\text{$\\infty$}}\\\\ \n",
    "0 & \\color{red}{\\text{$\\infty$}} & \\color{red}{\\text{$\\infty$}} & 0\\\\ \n",
    "\\color{red}{\\text{$\\infty$}} & 0 & \\color{red}{\\text{$\\infty$}} & 1\\\\ \n",
    "0 & 2 & \\color{red}{\\text{$\\infty$}} & \\color{red}{\\text{$\\infty$}} \\end{vmatrix}$\n",
    "\n",
    "Costo della riduzione per colonne risulta pari a 2.\n",
    "\n",
    "Costo totale: 2 + 2 = 4.\n",
    "\n",
    "Dalla matrice C1 si può indicare il costo per andare dal nodo A al nodo C, osservando l'elemento in posizione (1,3) che è pari a 0. A questo costo si aggiungono: il costo della riduzione del nodo A, ovvero 64, ed il costo della riduzione della matrice appena costruita, ovvero 4. \n",
    "**Possiamo dunque fornire il costo totale per andare dal nodo A al nodo C: 0+64+4 = 68**"
   ]
  },
  {
   "cell_type": "markdown",
   "metadata": {},
   "source": [
    "### Partendo dalla matrice ridotta C1, calcoliamo ora il costo per andare dal nodo A al nodo D:"
   ]
  },
  {
   "cell_type": "code",
   "execution_count": 13,
   "metadata": {},
   "outputs": [
    {
     "data": {
      "text/html": [
       "<img src=\"images/TSP5.jpg\" width=\"400\"/>"
      ],
      "text/plain": [
       "<IPython.core.display.Image object>"
      ]
     },
     "execution_count": 13,
     "metadata": {},
     "output_type": "execute_result"
    }
   ],
   "source": [
    "Image(url='images/TSP5.jpg', width=400)"
   ]
  },
  {
   "cell_type": "markdown",
   "metadata": {},
   "source": [
    "Analogamente agli altri nodi, troviamo il costo dal nodo A al nodo D.\n",
    "\n",
    "$\\begin{vmatrix}  \n",
    "\\color{red}{\\text{$\\infty$}} & \\color{red}{\\text{$\\infty$}} & \\color{red}{\\text{$\\infty$}} & \\color{red}{\\text{$\\infty$}}\\\\ \n",
    "2 & \\color{red}{\\text{$\\infty$}} & 0 & \\color{red}{\\text{$\\infty$}}\\\\ \n",
    "2 & 0 & \\color{red}{\\text{$\\infty$}} & \\color{red}{\\text{$\\infty$}}\\\\ \n",
    "\\color{red}{\\text{$\\infty$}} & 2 & 1 & \\color{red}{\\text{$\\infty$}} \\end{vmatrix}$\n",
    "\n",
    "\n",
    "**Riduzione per righe:**\n",
    "$\\begin{vmatrix}  \n",
    "\\color{red}{\\text{$\\infty$}} & \\color{red}{\\text{$\\infty$}} & \\color{red}{\\text{$\\infty$}} & \\color{red}{\\text{$\\infty$}}\\\\ \n",
    "2 & \\color{red}{\\text{$\\infty$}} & 0 & \\color{red}{\\text{$\\infty$}}\\\\ \n",
    "2 & 0 & \\color{red}{\\text{$\\infty$}} & \\color{red}{\\text{$\\infty$}}\\\\ \n",
    "\\color{red}{\\text{$\\infty$}} & 1 & 0 & \\color{red}{\\text{$\\infty$}} \\end{vmatrix}$\n",
    "\n",
    "Costo della riduzione per le righe risulta pari a 1.\n",
    "\n",
    "**Riduzione per colonne:**\n",
    "$\\begin{vmatrix}  \n",
    "\\color{red}{\\text{$\\infty$}} & \\color{red}{\\text{$\\infty$}} & \\color{red}{\\text{$\\infty$}} & \\color{red}{\\text{$\\infty$}}\\\\ \n",
    "0 & \\color{red}{\\text{$\\infty$}} & 0 & \\color{red}{\\text{$\\infty$}}\\\\ \n",
    "0 & 0 & \\color{red}{\\text{$\\infty$}} & \\color{red}{\\text{$\\infty$}}\\\\ \n",
    "\\color{red}{\\text{$\\infty$}} & 1 & 0 & \\color{red}{\\text{$\\infty$}} \\end{vmatrix}$\n",
    "\n",
    "Costo della riduzione per colonne risulta pari a 2.\n",
    "\n",
    "Costo totale: 1 + 2 = 3.\n",
    "\n",
    "Dalla matrice C1 si può indicare il costo per andare dal nodo A al nodo D, osservando l'elemento in posizione (1,4) che è pari a 0. A questo costo si aggiungono: il costo della riduzione del nodo A, ovvero 64, ed il costo della riduzione della matrice appena costruita, ovvero 3. \n",
    "**Possiamo dunque fornire il costo totale per andare dal nodo A al nodo C: 0+64+3 = 67**"
   ]
  },
  {
   "cell_type": "markdown",
   "metadata": {},
   "source": [
    "### Partendo dalla matrice ridotta AB, calcoliamo il costo per andare dal nodo B al nodo C"
   ]
  },
  {
   "cell_type": "code",
   "execution_count": 14,
   "metadata": {},
   "outputs": [
    {
     "data": {
      "text/html": [
       "<img src=\"images/TSP6.jpg\" width=\"400\"/>"
      ],
      "text/plain": [
       "<IPython.core.display.Image object>"
      ]
     },
     "execution_count": 14,
     "metadata": {},
     "output_type": "execute_result"
    }
   ],
   "source": [
    "Image(url='images/TSP6.jpg', width=400)"
   ]
  },
  {
   "cell_type": "markdown",
   "metadata": {},
   "source": [
    "$\\begin{vmatrix}  \n",
    "\\color{red}{\\text{$\\infty$}} & \\color{red}{\\text{$\\infty$}} & \\color{red}{\\text{$\\infty$}} & \\color{red}{\\text{$\\infty$}}\\\\ \n",
    "\\color{red}{\\text{$\\infty$}} & \\color{red}{\\text{$\\infty$}} & \\color{blue}{\\text{0}} & 3\\\\ \n",
    "0 & \\color{red}{\\text{$\\infty$}} & \\color{red}{\\text{$\\infty$}} & 0\\\\ \n",
    "0 & \\color{red}{\\text{$\\infty$}} & 1 & \\color{red}{\\text{$\\infty$}} \\end{vmatrix}$\n",
    "\n",
    "**Riduzione per righe:**\n",
    "$\\begin{vmatrix}  \n",
    "\\color{red}{\\text{$\\infty$}} & \\color{red}{\\text{$\\infty$}} & \\color{red}{\\text{$\\infty$}} & \\color{red}{\\text{$\\infty$}}\\\\ \n",
    "\\color{red}{\\text{$\\infty$}} & \\color{red}{\\text{$\\infty$}} & \\color{red}{\\text{$\\infty$}} & \\color{red}{\\text{$\\infty$}}\\\\ \n",
    "\\color{red}{\\text{$\\infty$}} & \\color{red}{\\text{$\\infty$}} & \\color{red}{\\text{$\\infty$}} & 0\\\\ \n",
    "0 & \\color{red}{\\text{$\\infty$}} & \\color{red}{\\text{$\\infty$}} & \\color{red}{\\text{$\\infty$}} \\end{vmatrix}$\n",
    "\n",
    "Non occorre alcuna riduzione, in quanto la matrice è già ridotta.\n",
    "\n",
    "**Riduzione per colonne:** \n",
    "Non occorre alcuna riduzione, in quanto la matrice è già ridotta.\n",
    "\n",
    "Costo totale: 0.\n",
    "\n",
    "Dalla matrice AB si può indicare il costo per andare dal nodo B al nodo C, osservando l'elemento in posizione (2,3) che è pari a 0. A questo costo si aggiungono i costi delle riduzioni, ovvero C(B) pari a 67 ed il costo della matrice calcolata ora, che risulta essere pari a 0.\n",
    "\n",
    "**Possiamo dunque fornire il costo totale per andare dal nodo B al nodo C: 0+67+0 = 67**"
   ]
  },
  {
   "cell_type": "markdown",
   "metadata": {},
   "source": [
    "### Partendo dalla matrice ridotta AB, calcoliamo il costo per andare dal nodo B al nodo C"
   ]
  },
  {
   "cell_type": "code",
   "execution_count": 15,
   "metadata": {},
   "outputs": [
    {
     "data": {
      "text/html": [
       "<img src=\"images/TSP7.jpg\" width=\"400\"/>"
      ],
      "text/plain": [
       "<IPython.core.display.Image object>"
      ]
     },
     "execution_count": 15,
     "metadata": {},
     "output_type": "execute_result"
    }
   ],
   "source": [
    "Image(url='images/TSP7.jpg', width=400)"
   ]
  },
  {
   "cell_type": "markdown",
   "metadata": {},
   "source": [
    "$\\begin{vmatrix}  \n",
    "\\color{red}{\\text{$\\infty$}} & \\color{red}{\\text{$\\infty$}} & \\color{red}{\\text{$\\infty$}} & \\color{red}{\\text{$\\infty$}}\\\\ \n",
    "\\color{red}{\\text{$\\infty$}} & \\color{red}{\\text{$\\infty$}} & 0 & \\color{blue}{\\text{3}}\\\\ \n",
    "0 & \\color{red}{\\text{$\\infty$}} & \\color{red}{\\text{$\\infty$}} & 0\\\\ \n",
    "0 & \\color{red}{\\text{$\\infty$}} & 1 & \\color{red}{\\text{$\\infty$}} \\end{vmatrix}$\n",
    "\n",
    "**Riduzione per righe:**\n",
    "$\\begin{vmatrix}  \n",
    "\\color{red}{\\text{$\\infty$}} & \\color{red}{\\text{$\\infty$}} & \\color{red}{\\text{$\\infty$}} & \\color{red}{\\text{$\\infty$}}\\\\ \n",
    "\\color{red}{\\text{$\\infty$}} & \\color{red}{\\text{$\\infty$}} & \\color{red}{\\text{$\\infty$}} & \\color{red}{\\text{$\\infty$}}\\\\ \n",
    "0 & \\color{red}{\\text{$\\infty$}} & \\color{red}{\\text{$\\infty$}} & \\color{red}{\\text{$\\infty$}}\\\\ \n",
    "\\color{red}{\\text{$\\infty$}} & \\color{red}{\\text{$\\infty$}} & 0 & \\color{red}{\\text{$\\infty$}} \\end{vmatrix}$\n",
    "\n",
    "Costo della riduzione per le righe risulta pari a 1.\n",
    "\n",
    "**Riduzione per colonne:** \n",
    "Non occorre alcuna riduzione, in quanto la matrice è già ridotta.\n",
    "\n",
    "Costo totale: 1.\n",
    "\n",
    "Dalla matrice AB si può indicare il costo per andare dal nodo B al nodo D, osservando l'elemento in posizione (2,4) che è pari a 3. A questo costo si aggiungono i costi delle riduzioni, ovvero C(B) pari a 67 ed il costo della matrice calcolata ora, che risulta essere pari a 1.\n",
    "\n",
    "**Possiamo dunque fornire il costo totale per andare dal nodo B al nodo C: 3+67+1 = 71**"
   ]
  },
  {
   "cell_type": "markdown",
   "metadata": {},
   "source": [
    "### Partendo dalla matrice ridotta AD, calcoliamo il costo per andare dal nodo D al nodo B"
   ]
  },
  {
   "cell_type": "code",
   "execution_count": 16,
   "metadata": {},
   "outputs": [
    {
     "data": {
      "text/html": [
       "<img src=\"images/TSP8.jpg\" width=\"400\"/>"
      ],
      "text/plain": [
       "<IPython.core.display.Image object>"
      ]
     },
     "execution_count": 16,
     "metadata": {},
     "output_type": "execute_result"
    }
   ],
   "source": [
    "Image(url='images/TSP8.jpg', width=400)"
   ]
  },
  {
   "cell_type": "markdown",
   "metadata": {},
   "source": [
    "AD=\n",
    "$\\begin{vmatrix}  \n",
    "\\color{red}{\\text{$\\infty$}} & \\color{red}{\\text{$\\infty$}} & \\color{red}{\\text{$\\infty$}} & \\color{red}{\\text{$\\infty$}}\\\\ \n",
    "0 & \\color{red}{\\text{$\\infty$}} & 0 & \\color{red}{\\text{$\\infty$}}\\\\ \n",
    "0 & 0 & \\color{red}{\\text{$\\infty$}} & \\color{red}{\\text{$\\infty$}}\\\\ \n",
    "\\color{red}{\\text{$\\infty$}} & \\color{blue}{\\text{1}} & 0 & \\color{red}{\\text{$\\infty$}} \\end{vmatrix}$\n",
    "\n",
    "\n",
    "$\\begin{vmatrix}  \n",
    "\\color{red}{\\text{$\\infty$}} & \\color{red}{\\text{$\\infty$}} & \\color{red}{\\text{$\\infty$}} & \\color{red}{\\text{$\\infty$}}\\\\ \n",
    "\\color{red}{\\text{$\\infty$}} & \\color{red}{\\text{$\\infty$}} & 0 & \\color{red}{\\text{$\\infty$}}\\\\ \n",
    "0 & \\color{red}{\\text{$\\infty$}}  & \\color{red}{\\text{$\\infty$}} & \\color{red}{\\text{$\\infty$}}\\\\ \n",
    "\\color{red}{\\text{$\\infty$}} & \\color{red}{\\text{$\\infty$}} & \\color{red}{\\text{$\\infty$}}  & \\color{red}{\\text{$\\infty$}} \\end{vmatrix}$\n",
    "\n",
    "\n",
    "**Riduzione per righe:**\n",
    "Non occorre alcuna riduzione, in quanto la matrice è già ridotta.\n",
    "\n",
    "**Riduzione per colonne:** \n",
    "Non occorre alcuna riduzione, in quanto la matrice è già ridotta.\n",
    "\n",
    "Costo totale: 0.\n",
    "\n",
    "Dalla matrice AD si può indicare il costo per andare dal nodo B al nodo D, osservando l'elemento in posizione (4,2) che è pari a 1. A questo costo si aggiungono i costi delle riduzioni, ovvero C(D) pari a 67 ed il costo della matrice calcolata ora, che risulta essere pari a 0.\n",
    "\n",
    "**Possiamo dunque fornire il costo totale per andare dal nodo B al nodo C: 1+67+0 = 68**"
   ]
  },
  {
   "cell_type": "markdown",
   "metadata": {},
   "source": [
    "### Partendo dalla matrice ridotta AD, calcoliamo il costo per andare dal nodo D al nodo C"
   ]
  },
  {
   "cell_type": "code",
   "execution_count": 17,
   "metadata": {},
   "outputs": [
    {
     "data": {
      "text/html": [
       "<img src=\"images/TSP9.jpg\" width=\"400\"/>"
      ],
      "text/plain": [
       "<IPython.core.display.Image object>"
      ]
     },
     "execution_count": 17,
     "metadata": {},
     "output_type": "execute_result"
    }
   ],
   "source": [
    "Image(url='images/TSP9.jpg', width=400)"
   ]
  },
  {
   "cell_type": "markdown",
   "metadata": {},
   "source": [
    "AD=\n",
    "$\\begin{vmatrix}  \n",
    "\\color{red}{\\text{$\\infty$}} & \\color{red}{\\text{$\\infty$}} & \\color{red}{\\text{$\\infty$}} & \\color{red}{\\text{$\\infty$}}\\\\ \n",
    "0 & \\color{red}{\\text{$\\infty$}} & 0 & \\color{red}{\\text{$\\infty$}}\\\\ \n",
    "0 & 0 & \\color{red}{\\text{$\\infty$}} & \\color{red}{\\text{$\\infty$}}\\\\ \n",
    "\\color{red}{\\text{$\\infty$}} & 1 & \\color{blue}{\\text{0}} & \\color{red}{\\text{$\\infty$}} \\end{vmatrix}$\n",
    "\n",
    "$\\begin{vmatrix}  \n",
    "\\color{red}{\\text{$\\infty$}} & \\color{red}{\\text{$\\infty$}} & \\color{red}{\\text{$\\infty$}} & \\color{red}{\\text{$\\infty$}}\\\\ \n",
    "0 & \\color{red}{\\text{$\\infty$}} & \\color{red}{\\text{$\\infty$}} & \\color{red}{\\text{$\\infty$}}\\\\ \n",
    "\\color{red}{\\text{$\\infty$}} & 0 & \\color{red}{\\text{$\\infty$}} & \\color{red}{\\text{$\\infty$}}\\\\ \n",
    "\\color{red}{\\text{$\\infty$}} & \\color{red}{\\text{$\\infty$}} & \\color{red}{\\text{$\\infty$}} & \\color{red}{\\text{$\\infty$}} \\end{vmatrix}$\n",
    "\n",
    "**Riduzione per righe:**\n",
    "Non occorre alcuna riduzione, in quanto la matrice è già ridotta.\n",
    "\n",
    "**Riduzione per colonne:** \n",
    "Non occorre alcuna riduzione, in quanto la matrice è già ridotta.\n",
    "\n",
    "Costo totale: 0.\n",
    "\n",
    "Dalla matrice AD si può indicare il costo per andare dal nodo D al nodo C, osservando l'elemento in posizione (4,3) che è pari a 0. A questo costo si aggiungono i costi delle riduzioni, ovvero C(D) pari a 67 ed il costo della matrice calcolata ora, che risulta essere pari a 0.\n",
    "\n",
    "**Possiamo dunque fornire il costo totale per andare dal nodo B al nodo C: 0+67+0 = 67**"
   ]
  },
  {
   "cell_type": "markdown",
   "metadata": {},
   "source": [
    "### Partendo dalla matrice ridotta BC, calcoliamo il costo per andare dal nodo C al nodo D"
   ]
  },
  {
   "cell_type": "code",
   "execution_count": 18,
   "metadata": {},
   "outputs": [
    {
     "data": {
      "text/html": [
       "<img src=\"images/TSP10.jpg\" width=\"400\"/>"
      ],
      "text/plain": [
       "<IPython.core.display.Image object>"
      ]
     },
     "execution_count": 18,
     "metadata": {},
     "output_type": "execute_result"
    }
   ],
   "source": [
    "Image(url='images/TSP10.jpg', width=400)"
   ]
  },
  {
   "cell_type": "markdown",
   "metadata": {},
   "source": [
    "BC=\n",
    "$\\begin{vmatrix}  \n",
    "\\color{red}{\\text{$\\infty$}} & \\color{red}{\\text{$\\infty$}} & \\color{red}{\\text{$\\infty$}} & \\color{red}{\\text{$\\infty$}}\\\\ \n",
    "\\color{red}{\\text{$\\infty$}} & \\color{red}{\\text{$\\infty$}} & \\color{red}{\\text{$\\infty$}} & \\color{red}{\\text{$\\infty$}}\\\\ \n",
    "\\color{red}{\\text{$\\infty$}} & \\color{red}{\\text{$\\infty$}} & \\color{red}{\\text{$\\infty$}} & \\color{blue}{\\text{0}}\\\\ \n",
    "0 & \\color{red}{\\text{$\\infty$}} & \\color{red}{\\text{$\\infty$}} & \\color{red}{\\text{$\\infty$}} \\end{vmatrix}$\n",
    "\n",
    "$\\begin{vmatrix}  \n",
    "\\color{red}{\\text{$\\infty$}} & \\color{red}{\\text{$\\infty$}} & \\color{red}{\\text{$\\infty$}} & \\color{red}{\\text{$\\infty$}}\\\\ \n",
    "\\color{red}{\\text{$\\infty$}} & \\color{red}{\\text{$\\infty$}} & \\color{red}{\\text{$\\infty$}} & \\color{red}{\\text{$\\infty$}}\\\\ \n",
    "\\color{red}{\\text{$\\infty$}} & \\color{red}{\\text{$\\infty$}} & \\color{red}{\\text{$\\infty$}} & \\color{red}{\\text{$\\infty$}}\\\\ \n",
    "0 & \\color{red}{\\text{$\\infty$}} & \\color{red}{\\text{$\\infty$}} & \\color{red}{\\text{$\\infty$}} \\end{vmatrix}$\n",
    "\n",
    "**Riduzione per righe:**\n",
    "Non occorre alcuna riduzione, in quanto la matrice è già ridotta.\n",
    "\n",
    "**Riduzione per colonne:** \n",
    "Non occorre alcuna riduzione, in quanto la matrice è già ridotta.\n",
    "\n",
    "Costo totale: 0.\n",
    "\n",
    "Dalla matrice BC si può indicare il costo per andare dal nodo C al nodo D, osservando l'elemento in posizione (3,4) che è pari a 0. A questo costo si aggiungono i costi delle riduzioni, ovvero C(C) pari a 67 ed il costo della matrice calcolata ora, che risulta essere pari a 0.\n",
    "\n",
    "**Possiamo dunque fornire il costo totale per andare dal nodo B al nodo C: 0+67+0 = 67**"
   ]
  },
  {
   "cell_type": "markdown",
   "metadata": {},
   "source": [
    "L'ultimo cammino da calcolare sarebbe il cammino ADCB, ma come si può visualizzare dal grafo, è equivalente con il cammino calcolato poc'anzi. \n",
    "\n",
    "### Dai risultati ottenuti, il cammino migliore risulta essere Bari, Modugno, Bitritto, Triggiano, Bari, con un costo pari a 67 (minuti)."
   ]
  },
  {
   "cell_type": "code",
   "execution_count": 19,
   "metadata": {},
   "outputs": [
    {
     "data": {
      "text/html": [
       "<img src=\"images/TSP12.jpg\" width=\"400\"/>"
      ],
      "text/plain": [
       "<IPython.core.display.Image object>"
      ]
     },
     "execution_count": 19,
     "metadata": {},
     "output_type": "execute_result"
    }
   ],
   "source": [
    "Image(url='images/TSP12.jpg', width=400)"
   ]
  },
  {
   "cell_type": "code",
   "execution_count": 3,
   "metadata": {},
   "outputs": [
    {
     "data": {
      "text/plain": [
       "[0, 1, 2, 3]"
      ]
     },
     "execution_count": 3,
     "metadata": {},
     "output_type": "execute_result"
    }
   ],
   "source": [
    "import numpy as np\n",
    "from python_tsp.exact import solve_tsp_dynamic_programming\n",
    "\n",
    "distance_matrix = np.array([\n",
    "    [0,  16, 16, 18],\n",
    "    [16,  0,  14, 20],\n",
    "    [16,  14,  0, 19],\n",
    "    [18, 20, 19,  0]\n",
    "])\n",
    "permutation, distance = solve_tsp_dynamic_programming(distance_matrix)\n",
    "\n",
    "permutation "
   ]
  },
  {
   "cell_type": "code",
   "execution_count": 44,
   "metadata": {},
   "outputs": [
    {
     "data": {
      "text/plain": [
       "67"
      ]
     },
     "execution_count": 44,
     "metadata": {},
     "output_type": "execute_result"
    }
   ],
   "source": [
    "distance "
   ]
  },
  {
   "cell_type": "code",
   "execution_count": 4,
   "metadata": {},
   "outputs": [],
   "source": [
    "??solve_tsp_dynamic_programming"
   ]
  },
  {
   "cell_type": "code",
   "execution_count": null,
   "metadata": {},
   "outputs": [],
   "source": []
  }
 ],
 "metadata": {
  "kernelspec": {
   "display_name": "Python 3",
   "language": "python",
   "name": "python3"
  },
  "language_info": {
   "codemirror_mode": {
    "name": "ipython",
    "version": 3
   },
   "file_extension": ".py",
   "mimetype": "text/x-python",
   "name": "python",
   "nbconvert_exporter": "python",
   "pygments_lexer": "ipython3",
   "version": "3.8.5"
  }
 },
 "nbformat": 4,
 "nbformat_minor": 4
}
